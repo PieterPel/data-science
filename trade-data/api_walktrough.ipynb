{
 "cells": [
  {
   "cell_type": "markdown",
   "metadata": {},
   "source": []
  },
  {
   "cell_type": "code",
   "execution_count": 73,
   "metadata": {},
   "outputs": [],
   "source": [
    "import pandasdmx as sdmx\n",
    "import pandas as pd\n",
    "import sys"
   ]
  },
  {
   "cell_type": "markdown",
   "metadata": {},
   "source": [
    "### Choose and connect to an SDMX web service"
   ]
  },
  {
   "cell_type": "code",
   "execution_count": 39,
   "metadata": {},
   "outputs": [],
   "source": [
    "ecb = sdmx.Request('ECB')"
   ]
  },
  {
   "cell_type": "markdown",
   "metadata": {},
   "source": [
    "### Configure the HTTP connection"
   ]
  },
  {
   "cell_type": "code",
   "execution_count": 40,
   "metadata": {},
   "outputs": [],
   "source": [
    "ecb_via_proxy = sdmx.Request(\n",
    "    'ECB',\n",
    "    proxies={'http': 'http://1.2.3.4:5678'}\n",
    ")"
   ]
  },
  {
   "cell_type": "code",
   "execution_count": 41,
   "metadata": {},
   "outputs": [
    {
     "data": {
      "text/plain": [
       "{'http': 'http://1.2.3.4:5678'}"
      ]
     },
     "execution_count": 41,
     "metadata": {},
     "output_type": "execute_result"
    }
   ],
   "source": [
    "ecb_via_proxy.session.proxies"
   ]
  },
  {
   "cell_type": "markdown",
   "metadata": {},
   "source": [
    "### Cache HTTP responses and parsed objects"
   ]
  },
  {
   "cell_type": "code",
   "execution_count": 42,
   "metadata": {},
   "outputs": [],
   "source": [
    "ecb_with_cache = sdmx.Request(\n",
    "    'ECB',\n",
    "    backend='sqlite',\n",
    "    fast_save=True,\n",
    "    expire_after=600,\n",
    ")"
   ]
  },
  {
   "cell_type": "markdown",
   "metadata": {},
   "source": [
    "### Get information about the source’s data flows"
   ]
  },
  {
   "cell_type": "code",
   "execution_count": 43,
   "metadata": {},
   "outputs": [],
   "source": [
    "flow_msg = ecb.dataflow()"
   ]
  },
  {
   "cell_type": "code",
   "execution_count": 44,
   "metadata": {},
   "outputs": [
    {
     "data": {
      "text/plain": [
       "'https://data-api.ecb.europa.eu/service/dataflow/ECB/latest'"
      ]
     },
     "execution_count": 44,
     "metadata": {},
     "output_type": "execute_result"
    }
   ],
   "source": [
    "flow_msg.response.url"
   ]
  },
  {
   "cell_type": "code",
   "execution_count": 45,
   "metadata": {},
   "outputs": [
    {
     "data": {
      "text/plain": [
       "{'Server': 'myracloud', 'Date': 'Wed, 27 Mar 2024 09:04:24 GMT', 'Content-Type': 'application/vnd.sdmx.structure+xml;version=2.1', 'Transfer-Encoding': 'chunked', 'Connection': 'keep-alive', 'Expires': 'Wed, 27 Mar 2024 09:04:54 GMT', 'cache-control': 'max-age=30', 'ETag': '\"myra-6f8efcd9\"'}"
      ]
     },
     "execution_count": 45,
     "metadata": {},
     "output_type": "execute_result"
    }
   ],
   "source": [
    "flow_msg.response.headers"
   ]
  },
  {
   "cell_type": "code",
   "execution_count": 46,
   "metadata": {},
   "outputs": [
    {
     "data": {
      "text/plain": [
       "<pandasdmx.StructureMessage>\n",
       "  <Header>\n",
       "    id: 'IREF302684'\n",
       "    prepared: '2024-03-27T09:04:24+00:00'\n",
       "    receiver: <Agency not_supplied>\n",
       "    sender: <Agency Unknown>\n",
       "    source: \n",
       "    test: False\n",
       "  response: <Response [200]>\n",
       "  DataflowDefinition (95): AME BKN BLS BNT BOP BPS BSI BSP CBD CBD2 CCP...\n",
       "  DataStructureDefinition (73): ECB_AME1 ECB_BKN1 ECB_BLS1 ECB_BOP_BNT ..."
      ]
     },
     "execution_count": 46,
     "metadata": {},
     "output_type": "execute_result"
    }
   ],
   "source": [
    "flow_msg"
   ]
  },
  {
   "cell_type": "code",
   "execution_count": 47,
   "metadata": {},
   "outputs": [
    {
     "data": {
      "text/plain": [
       "<DataflowDefinition ECB:BOP(1.0): Euro Area Balance of Payments and International Investment Position Statistics>"
      ]
     },
     "execution_count": 47,
     "metadata": {},
     "output_type": "execute_result"
    }
   ],
   "source": [
    "flow_msg.dataflow.BOP"
   ]
  },
  {
   "cell_type": "markdown",
   "metadata": {},
   "source": [
    "### Convert metadata to pandas.Series"
   ]
  },
  {
   "cell_type": "code",
   "execution_count": 48,
   "metadata": {},
   "outputs": [
    {
     "name": "stdout",
     "output_type": "stream",
     "text": [
      "95\n"
     ]
    },
    {
     "data": {
      "text/plain": [
       "AME                                                AMECO\n",
       "BKN                                 Banknotes statistics\n",
       "BLS                       Bank Lending Survey Statistics\n",
       "BNT        Shipments of Euro Banknotes Statistics (ESCB)\n",
       "BOP    Euro Area Balance of Payments and Internationa...\n",
       "dtype: object"
      ]
     },
     "execution_count": 48,
     "metadata": {},
     "output_type": "execute_result"
    }
   ],
   "source": [
    "dataflows = sdmx.to_pandas(flow_msg.dataflow)\n",
    "\n",
    "print(len(dataflows))\n",
    "\n",
    "dataflows.head()"
   ]
  },
  {
   "cell_type": "code",
   "execution_count": 49,
   "metadata": {},
   "outputs": [
    {
     "data": {
      "text/plain": [
       "EXR                              Exchange Rates\n",
       "FXI                 Foreign Exchange Statistics\n",
       "SEE    Securities exchange - Trading Statistics\n",
       "dtype: object"
      ]
     },
     "execution_count": 49,
     "metadata": {},
     "output_type": "execute_result"
    }
   ],
   "source": [
    "dataflows[dataflows.str.contains('exchange', case=False)]"
   ]
  },
  {
   "cell_type": "markdown",
   "metadata": {},
   "source": [
    "### Extract the metadata related to a data flow"
   ]
  },
  {
   "cell_type": "code",
   "execution_count": 50,
   "metadata": {},
   "outputs": [],
   "source": [
    "exr_msg = ecb.dataflow('EXR')"
   ]
  },
  {
   "cell_type": "code",
   "execution_count": 51,
   "metadata": {},
   "outputs": [
    {
     "data": {
      "text/plain": [
       "'https://data-api.ecb.europa.eu/service/dataflow/ECB/EXR/latest?references=all'"
      ]
     },
     "execution_count": 51,
     "metadata": {},
     "output_type": "execute_result"
    }
   ],
   "source": [
    "exr_msg.response.url"
   ]
  },
  {
   "cell_type": "code",
   "execution_count": 52,
   "metadata": {},
   "outputs": [
    {
     "data": {
      "text/plain": [
       "<pandasdmx.StructureMessage>\n",
       "  <Header>\n",
       "    id: 'IREF302685'\n",
       "    prepared: '2024-03-27T09:04:26+00:00'\n",
       "    receiver: <Agency not_supplied>\n",
       "    sender: <Agency Unknown>\n",
       "    source: \n",
       "    test: False\n",
       "  response: <Response [200]>\n",
       "  Categorisation (2): 21e97b57-5950-eaab-eead-1534306b28af 53A341E8-D48...\n",
       "  CategoryScheme (2): WDC_NAVI WDC_NAVI_OLD\n",
       "  Codelist (11): CL_COLLECTION CL_CURRENCY CL_DECIMALS CL_EXR_SUFFIX CL...\n",
       "  ConceptScheme (1): ECB_CONCEPTS\n",
       "  ContentConstraint (1): EXR_CONSTRAINTS\n",
       "  DataflowDefinition (1): EXR\n",
       "  DataStructureDefinition (1): ECB_EXR1\n",
       "  AgencyScheme (1): AGENCIES"
      ]
     },
     "execution_count": 52,
     "metadata": {},
     "output_type": "execute_result"
    }
   ],
   "source": [
    "exr_msg"
   ]
  },
  {
   "cell_type": "code",
   "execution_count": 53,
   "metadata": {},
   "outputs": [],
   "source": [
    "exr_flow = exr_msg.dataflow.EXR"
   ]
  },
  {
   "cell_type": "code",
   "execution_count": 54,
   "metadata": {},
   "outputs": [
    {
     "data": {
      "text/plain": [
       "<DataStructureDefinition ECB:ECB_EXR1(1.0): Exchange Rates>"
      ]
     },
     "execution_count": 54,
     "metadata": {},
     "output_type": "execute_result"
    }
   ],
   "source": [
    "# Show the data structure definition referred to by the data flow\n",
    "dsd = exr_flow.structure\n",
    "dsd"
   ]
  },
  {
   "cell_type": "code",
   "execution_count": 55,
   "metadata": {},
   "outputs": [
    {
     "data": {
      "text/plain": [
       "True"
      ]
     },
     "execution_count": 55,
     "metadata": {},
     "output_type": "execute_result"
    }
   ],
   "source": [
    "# The same object instance is accessible from the StructureMessage\n",
    "dsd is exr_msg.structure.ECB_EXR1"
   ]
  },
  {
   "cell_type": "code",
   "execution_count": 56,
   "metadata": {},
   "outputs": [
    {
     "data": {
      "text/plain": [
       "[<Dimension FREQ>,\n",
       " <Dimension CURRENCY>,\n",
       " <Dimension CURRENCY_DENOM>,\n",
       " <Dimension EXR_TYPE>,\n",
       " <Dimension EXR_SUFFIX>,\n",
       " <TimeDimension TIME_PERIOD>]"
      ]
     },
     "execution_count": 56,
     "metadata": {},
     "output_type": "execute_result"
    }
   ],
   "source": [
    "# Explore the DSD\n",
    "dsd.dimensions.components"
   ]
  },
  {
   "cell_type": "code",
   "execution_count": 57,
   "metadata": {},
   "outputs": [
    {
     "data": {
      "text/plain": [
       "[<DataAttribute TIME_FORMAT>,\n",
       " <DataAttribute OBS_STATUS>,\n",
       " <DataAttribute OBS_CONF>,\n",
       " <DataAttribute OBS_PRE_BREAK>,\n",
       " <DataAttribute OBS_COM>,\n",
       " <DataAttribute BREAKS>,\n",
       " <DataAttribute COLLECTION>,\n",
       " <DataAttribute COMPILING_ORG>,\n",
       " <DataAttribute DISS_ORG>,\n",
       " <DataAttribute DOM_SER_IDS>,\n",
       " <DataAttribute PUBL_ECB>,\n",
       " <DataAttribute PUBL_MU>,\n",
       " <DataAttribute PUBL_PUBLIC>,\n",
       " <DataAttribute UNIT_INDEX_BASE>,\n",
       " <DataAttribute COMPILATION>,\n",
       " <DataAttribute COVERAGE>,\n",
       " <DataAttribute DECIMALS>,\n",
       " <DataAttribute NAT_TITLE>,\n",
       " <DataAttribute SOURCE_AGENCY>,\n",
       " <DataAttribute SOURCE_PUB>,\n",
       " <DataAttribute TITLE>,\n",
       " <DataAttribute TITLE_COMPL>,\n",
       " <DataAttribute UNIT>,\n",
       " <DataAttribute UNIT_MULT>]"
      ]
     },
     "execution_count": 57,
     "metadata": {},
     "output_type": "execute_result"
    }
   ],
   "source": [
    "dsd.attributes.components"
   ]
  },
  {
   "cell_type": "code",
   "execution_count": 58,
   "metadata": {},
   "outputs": [
    {
     "data": {
      "text/plain": [
       "[<PrimaryMeasure OBS_VALUE>]"
      ]
     },
     "execution_count": 58,
     "metadata": {},
     "output_type": "execute_result"
    }
   ],
   "source": [
    "dsd.measures.components"
   ]
  },
  {
   "cell_type": "code",
   "execution_count": 59,
   "metadata": {},
   "outputs": [
    {
     "data": {
      "text/plain": [
       "<Codelist ECB:CL_FREQ(1.0) (10 items): Frequency code list>"
      ]
     },
     "execution_count": 59,
     "metadata": {},
     "output_type": "execute_result"
    }
   ],
   "source": [
    "# Show a codelist referenced by a dimension, containing a superset\n",
    "# of existing values\n",
    "cl = dsd.dimensions.get('FREQ').local_representation.enumerated\n",
    "cl"
   ]
  },
  {
   "cell_type": "code",
   "execution_count": 60,
   "metadata": {},
   "outputs": [
    {
     "data": {
      "text/plain": [
       "True"
      ]
     },
     "execution_count": 60,
     "metadata": {},
     "output_type": "execute_result"
    }
   ],
   "source": [
    "# Again, the same object can be accessed directly\n",
    "cl is exr_msg.codelist.CL_FREQ"
   ]
  },
  {
   "cell_type": "code",
   "execution_count": 61,
   "metadata": {},
   "outputs": [
    {
     "data": {
      "text/html": [
       "<div>\n",
       "<style scoped>\n",
       "    .dataframe tbody tr th:only-of-type {\n",
       "        vertical-align: middle;\n",
       "    }\n",
       "\n",
       "    .dataframe tbody tr th {\n",
       "        vertical-align: top;\n",
       "    }\n",
       "\n",
       "    .dataframe thead th {\n",
       "        text-align: right;\n",
       "    }\n",
       "</style>\n",
       "<table border=\"1\" class=\"dataframe\">\n",
       "  <thead>\n",
       "    <tr style=\"text-align: right;\">\n",
       "      <th></th>\n",
       "      <th>name</th>\n",
       "      <th>parent</th>\n",
       "    </tr>\n",
       "    <tr>\n",
       "      <th>CL_FREQ</th>\n",
       "      <th></th>\n",
       "      <th></th>\n",
       "    </tr>\n",
       "  </thead>\n",
       "  <tbody>\n",
       "    <tr>\n",
       "      <th>A</th>\n",
       "      <td>Annual</td>\n",
       "      <td>CL_FREQ</td>\n",
       "    </tr>\n",
       "    <tr>\n",
       "      <th>B</th>\n",
       "      <td>Daily - businessweek</td>\n",
       "      <td>CL_FREQ</td>\n",
       "    </tr>\n",
       "    <tr>\n",
       "      <th>D</th>\n",
       "      <td>Daily</td>\n",
       "      <td>CL_FREQ</td>\n",
       "    </tr>\n",
       "    <tr>\n",
       "      <th>E</th>\n",
       "      <td>Event (not supported)</td>\n",
       "      <td>CL_FREQ</td>\n",
       "    </tr>\n",
       "    <tr>\n",
       "      <th>H</th>\n",
       "      <td>Half-yearly</td>\n",
       "      <td>CL_FREQ</td>\n",
       "    </tr>\n",
       "    <tr>\n",
       "      <th>M</th>\n",
       "      <td>Monthly</td>\n",
       "      <td>CL_FREQ</td>\n",
       "    </tr>\n",
       "    <tr>\n",
       "      <th>N</th>\n",
       "      <td>Minutely</td>\n",
       "      <td>CL_FREQ</td>\n",
       "    </tr>\n",
       "    <tr>\n",
       "      <th>Q</th>\n",
       "      <td>Quarterly</td>\n",
       "      <td>CL_FREQ</td>\n",
       "    </tr>\n",
       "    <tr>\n",
       "      <th>S</th>\n",
       "      <td>Half-yearly, semester (value introduced in 200...</td>\n",
       "      <td>CL_FREQ</td>\n",
       "    </tr>\n",
       "    <tr>\n",
       "      <th>W</th>\n",
       "      <td>Weekly</td>\n",
       "      <td>CL_FREQ</td>\n",
       "    </tr>\n",
       "  </tbody>\n",
       "</table>\n",
       "</div>"
      ],
      "text/plain": [
       "                                                      name   parent\n",
       "CL_FREQ                                                            \n",
       "A                                                   Annual  CL_FREQ\n",
       "B                                     Daily - businessweek  CL_FREQ\n",
       "D                                                    Daily  CL_FREQ\n",
       "E                                    Event (not supported)  CL_FREQ\n",
       "H                                              Half-yearly  CL_FREQ\n",
       "M                                                  Monthly  CL_FREQ\n",
       "N                                                 Minutely  CL_FREQ\n",
       "Q                                                Quarterly  CL_FREQ\n",
       "S        Half-yearly, semester (value introduced in 200...  CL_FREQ\n",
       "W                                                   Weekly  CL_FREQ"
      ]
     },
     "execution_count": 61,
     "metadata": {},
     "output_type": "execute_result"
    }
   ],
   "source": [
    "sdmx.to_pandas(cl)"
   ]
  },
  {
   "cell_type": "markdown",
   "metadata": {},
   "source": [
    "### Internationalisation"
   ]
  },
  {
   "cell_type": "code",
   "execution_count": 62,
   "metadata": {},
   "outputs": [
    {
     "data": {
      "text/plain": [
       "'en'"
      ]
     },
     "execution_count": 62,
     "metadata": {},
     "output_type": "execute_result"
    }
   ],
   "source": [
    "ecb.default_locale"
   ]
  },
  {
   "cell_type": "code",
   "execution_count": 63,
   "metadata": {},
   "outputs": [],
   "source": [
    "ecb.default_locale = \"fr\""
   ]
  },
  {
   "cell_type": "code",
   "execution_count": 64,
   "metadata": {},
   "outputs": [
    {
     "data": {
      "text/plain": [
       "BALANCE-PAIEMENTS                                    Balance des paiements\n",
       "CHOMAGE-TRIM-NATIONAL    Chômage, taux de chômage par sexe et âge (sens...\n",
       "CLIMAT-AFFAIRES            Indicateurs synthétiques du climat des affaires\n",
       "CNA-2010-CONSO-MEN       Consommation des ménages - Résultats par produ...\n",
       "CNA-2010-CONSO-SI        Dépenses de consommation finale par secteur in...\n",
       "dtype: object"
      ]
     },
     "execution_count": 64,
     "metadata": {},
     "output_type": "execute_result"
    }
   ],
   "source": [
    "# Note that this setting is global, not per Request instance.\n",
    "insee_flows = sdmx.Request('insee').dataflow()\n",
    "sdmx.to_pandas(insee_flows.dataflow).head()"
   ]
  },
  {
   "cell_type": "code",
   "execution_count": 65,
   "metadata": {},
   "outputs": [
    {
     "data": {
      "text/plain": [
       "BALANCE-PAIEMENTS                                      Balance of payments\n",
       "CHOMAGE-TRIM-NATIONAL    Unemployment, unemployment rate and halo by se...\n",
       "CLIMAT-AFFAIRES                      Business climate composite indicators\n",
       "CNA-2010-CONSO-MEN       Households' consumption - Results by product, ...\n",
       "CNA-2010-CONSO-SI        Final consumption expenditure by institutional...\n",
       "dtype: object"
      ]
     },
     "execution_count": 65,
     "metadata": {},
     "output_type": "execute_result"
    }
   ],
   "source": [
    "ecb.default_locale = \"en\"\n",
    "sdmx.to_pandas(insee_flows.dataflow).head()"
   ]
  },
  {
   "cell_type": "markdown",
   "metadata": {},
   "source": [
    "## Select and query data from a dataflow"
   ]
  },
  {
   "cell_type": "markdown",
   "metadata": {},
   "source": [
    "### Construct a selection key for a query"
   ]
  },
  {
   "cell_type": "code",
   "execution_count": 66,
   "metadata": {},
   "outputs": [],
   "source": [
    "key = dict(CURRENCY=['USD', 'JPY'])\n",
    "\n",
    "params = dict(startPeriod='2016')"
   ]
  },
  {
   "cell_type": "markdown",
   "metadata": {},
   "source": [
    "### Query data"
   ]
  },
  {
   "cell_type": "code",
   "execution_count": 67,
   "metadata": {},
   "outputs": [
    {
     "name": "stderr",
     "output_type": "stream",
     "text": [
      "2024-03-27 10:04:27,394 pandasdmx.reader.sdmxml - INFO: Use supplied dsd=… argument for non–structure-specific message\n"
     ]
    },
    {
     "data": {
      "text/plain": [
       "'application/vnd.sdmx.genericdata+xml;version=2.1'"
      ]
     },
     "execution_count": 67,
     "metadata": {},
     "output_type": "execute_result"
    }
   ],
   "source": [
    "ecb = sdmx.Request('ECB', backend='memory')\n",
    "\n",
    "data_msg = ecb.data('EXR', key=key, params=params)\n",
    "\n",
    "# Generic data was returned\n",
    "data_msg.response.headers['content-type']"
   ]
  },
  {
   "cell_type": "code",
   "execution_count": 68,
   "metadata": {},
   "outputs": [
    {
     "data": {
      "text/plain": [
       "1099575"
      ]
     },
     "execution_count": 68,
     "metadata": {},
     "output_type": "execute_result"
    }
   ],
   "source": [
    "# Number of bytes in the cached response\n",
    "bytes1 = sys.getsizeof(ecb.session.cache.responses.popitem()[1].content)\n",
    "\n",
    "bytes1"
   ]
  },
  {
   "cell_type": "code",
   "execution_count": 69,
   "metadata": {},
   "outputs": [
    {
     "data": {
      "text/plain": [
       "'application/vnd.sdmx.structurespecificdata+xml;version=2.1'"
      ]
     },
     "execution_count": 69,
     "metadata": {},
     "output_type": "execute_result"
    }
   ],
   "source": [
    "ss_msg = ecb.data('EXR', key=key, params=params, dsd=dsd)\n",
    "ss_msg.response.request.headers['accept']"
   ]
  },
  {
   "cell_type": "code",
   "execution_count": 70,
   "metadata": {},
   "outputs": [
    {
     "data": {
      "text/plain": [
       "'application/vnd.sdmx.structurespecificdata+xml;version=2.1'"
      ]
     },
     "execution_count": 70,
     "metadata": {},
     "output_type": "execute_result"
    }
   ],
   "source": [
    "ss_msg.response.headers['content-type']"
   ]
  },
  {
   "cell_type": "code",
   "execution_count": 71,
   "metadata": {},
   "outputs": [
    {
     "data": {
      "text/plain": [
       "0.34012959552554395"
      ]
     },
     "execution_count": 71,
     "metadata": {},
     "output_type": "execute_result"
    }
   ],
   "source": [
    "bytes2 = sys.getsizeof(ecb.session.cache.responses.popitem()[1].content)\n",
    "bytes2 / bytes1"
   ]
  },
  {
   "cell_type": "code",
   "execution_count": 72,
   "metadata": {},
   "outputs": [
    {
     "name": "stdout",
     "output_type": "stream",
     "text": [
      "(FREQ=D, CURRENCY=USD, CURRENCY_DENOM=EUR, EXR_TYPE=SP00, EXR_SUFFIX=A)\n"
     ]
    },
    {
     "data": {
      "text/plain": [
       "{<KeyValue: FREQ=A>,\n",
       " <KeyValue: FREQ=D>,\n",
       " <KeyValue: FREQ=H>,\n",
       " <KeyValue: FREQ=M>,\n",
       " <KeyValue: FREQ=Q>}"
      ]
     },
     "execution_count": 72,
     "metadata": {},
     "output_type": "execute_result"
    }
   ],
   "source": [
    "data = data_msg.data[0]\n",
    "print(list(data.series.keys())[5])\n",
    "set(series_key.FREQ for series_key in data.series.keys())"
   ]
  },
  {
   "cell_type": "markdown",
   "metadata": {},
   "source": [
    "## Convert data to pandas"
   ]
  },
  {
   "cell_type": "markdown",
   "metadata": {},
   "source": [
    "### Select columns using the model API"
   ]
  },
  {
   "cell_type": "code",
   "execution_count": null,
   "metadata": {},
   "outputs": [],
   "source": []
  }
 ],
 "metadata": {
  "kernelspec": {
   "display_name": ".venv",
   "language": "python",
   "name": "python3"
  },
  "language_info": {
   "codemirror_mode": {
    "name": "ipython",
    "version": 3
   },
   "file_extension": ".py",
   "mimetype": "text/x-python",
   "name": "python",
   "nbconvert_exporter": "python",
   "pygments_lexer": "ipython3",
   "version": "3.11.2"
  }
 },
 "nbformat": 4,
 "nbformat_minor": 2
}
